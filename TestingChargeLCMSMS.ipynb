{
 "cells": [
  {
   "cell_type": "markdown",
   "metadata": {},
   "source": [
    "# Calibration Notebook\n",
    "> Guan, Shenheng, Michael F. Moran, et Bin Ma. « Prediction of LC-MS/MS Properties of Peptides from Sequence by Deep Learning ». Molecular & Cellular Proteomics : MCP 18, no 10 (octobre 2019): 2099‑2107. https://doi.org/10.1074/mcp.TIR119.001412."
   ]
  },
  {
   "cell_type": "code",
   "execution_count": 1,
   "metadata": {},
   "outputs": [],
   "source": [
    "import numpy as np\n",
    "import pandas as pd\n",
    "import csv\n",
    "import matplotlib.pyplot as plt\n",
    "import random\n",
    "from pyteomics import mass\n",
    "from pyteomics import electrochem\n",
    "\n",
    "from sklearn.ensemble import RandomForestClassifier\n",
    "from sklearn.model_selection import train_test_split\n",
    "from sklearn.metrics import accuracy_score, confusion_matrix\n",
    "from sklearn.metrics import mean_squared_error\n",
    "\n",
    "import joblib\n"
   ]
  },
  {
   "cell_type": "code",
   "execution_count": 27,
   "metadata": {},
   "outputs": [],
   "source": [
    "__path_model__ = \"D:\\LCMSMS_Pred_Supplemental_Material_section_S6\\LCMSMS_Pred_Supplemental_Material_section_S6\\ChargeState\\zfit_bidirLSTM2_masking_model.h5\"\n",
    "__DATA_1_PATH__ = \"D:\\dev\\Stats\\data\\dic.pkl\"\n",
    "__DATA_2_PATH__ = \"D:\\dev\\RT_STUDY\\Quantified_peptide_ions.tsv\""
   ]
  },
  {
   "cell_type": "markdown",
   "metadata": {},
   "source": [
    "### Our data"
   ]
  },
  {
   "cell_type": "code",
   "execution_count": 101,
   "metadata": {},
   "outputs": [
    {
     "name": "stdout",
     "output_type": "stream",
     "text": [
      "56571 56571\n",
      "(121277, 2)\n"
     ]
    },
    {
     "name": "stderr",
     "output_type": "stream",
     "text": [
      "C:\\Users\\pelegrin\\AppData\\Local\\Temp\\ipykernel_7428\\4150674683.py:32: DtypeWarning: Columns (0,3,4,5,6,7,8,9,10,11,12,13,14,15,16,17,18,19,20,21,22,23,24,25,26,27,28,29,30,31,32,33,34,35,36,37,38,39,40,41,42,43,44,45,46,47,48,49,50,51,52,53,54,55,56,57,58,59,60,61,62,63,64,65,66,67,68,69,70,71) have mixed types. Specify dtype option on import or set low_memory=False.\n",
      "  df = pd.read_table(__DATA_2_PATH__, sep='\\t', names=names.split('\\t'))\n"
     ]
    },
    {
     "data": {
      "text/html": [
       "<div>\n",
       "<style scoped>\n",
       "    .dataframe tbody tr th:only-of-type {\n",
       "        vertical-align: middle;\n",
       "    }\n",
       "\n",
       "    .dataframe tbody tr th {\n",
       "        vertical-align: top;\n",
       "    }\n",
       "\n",
       "    .dataframe thead th {\n",
       "        text-align: right;\n",
       "    }\n",
       "</style>\n",
       "<table border=\"1\" class=\"dataframe\">\n",
       "  <thead>\n",
       "    <tr style=\"text-align: right;\">\n",
       "      <th></th>\n",
       "      <th>seq</th>\n",
       "      <th>charge</th>\n",
       "    </tr>\n",
       "  </thead>\n",
       "  <tbody>\n",
       "    <tr>\n",
       "      <th>0</th>\n",
       "      <td>GPQVALK</td>\n",
       "      <td>2</td>\n",
       "    </tr>\n",
       "    <tr>\n",
       "      <th>1</th>\n",
       "      <td>GPALDIK</td>\n",
       "      <td>2</td>\n",
       "    </tr>\n",
       "    <tr>\n",
       "      <th>2</th>\n",
       "      <td>FSVSGLK</td>\n",
       "      <td>2</td>\n",
       "    </tr>\n",
       "    <tr>\n",
       "      <th>3</th>\n",
       "      <td>APSLDIK</td>\n",
       "      <td>2</td>\n",
       "    </tr>\n",
       "    <tr>\n",
       "      <th>4</th>\n",
       "      <td>GPEVDIK</td>\n",
       "      <td>2</td>\n",
       "    </tr>\n",
       "  </tbody>\n",
       "</table>\n",
       "</div>"
      ],
      "text/plain": [
       "       seq charge\n",
       "0  GPQVALK      2\n",
       "1  GPALDIK      2\n",
       "2  FSVSGLK      2\n",
       "3  APSLDIK      2\n",
       "4  GPEVDIK      2"
      ]
     },
     "execution_count": 101,
     "metadata": {},
     "output_type": "execute_result"
    }
   ],
   "source": [
    "dic = joblib.load(__DATA_1_PATH__)\n",
    "\n",
    "def generate_data(dic):\n",
    "    charge = []\n",
    "    seq = []\n",
    "\n",
    "    for i in dic.keys():\n",
    "        for j in dic[i].keys():\n",
    "            if j != 'total':\n",
    "                charge.append(str(j))\n",
    "                seq.append(dic[i][j]['sequence'])\n",
    "    return np.array(seq),np.array(charge)\n",
    "\n",
    "seq,charge = generate_data(dic)\n",
    "print(len(seq),len(charge))\n",
    "\n",
    "names = ''' peptide_id\tsequence\tmodifications\tmaster_elution_time\tmaster_quant_peptide_ion_moz\tmaster_quant_peptide_ion_charge\tmaster_quant_peptide_ion_elution_time\tmaster_quant_peptide_ion_feature_id\tpsm_count_MC HeLa Thermo MS60K-HCD15KG120 1ug ON 45C_72878\tpsm_count_MC HeLa Thermo MS60K-HCD15KG120 1ug ON 45C_72882\tpsm_count_MC HeLa Thermo MS60K-HCD15KG120 1ug ON 45C_72898\tpsm_count_MC HeLa Thermo MS60K-HCD15KG120 1ug ON 45C_72904\tpsm_count_MC HeLa Thermo MS60K-HCD15KG120 1ug ON 45C_72907\tpsm_count_MC HeLa Thermo MS60K-HCD15KG120 1ug ON 45C_72911\tpsm_count_MC HeLa Thermo MS60K-HCD15KG120 1ug ON 45C_73324\tpsm_count_MC HeLa Thermo MS60K-HCD15KG120 1ug ON 45C_73334\tpsm_count_MC HeLa Thermo MS60K-HCD15KG120 1ug ON 45C_73344\tpsm_count_MC HeLa Thermo MS60K-HCD15KG120 1ug ON 45C_73495\tpsm_count_MC HeLa Thermo MS60K-HCD15KG120 1ug ON 45C_73500\tpsm_count_MC HeLa Thermo MS60K-HCD15KG120 1ug ON 45C_73578\tpsm_count_MC HeLa Thermo MS60K-HCD15KG120 1ug ON 45C_73592\tpsm_count_MC HeLa Thermo MS60K-HCD15KG120 1ug ON 45C_73599\tpsm_count_MC HeLa Thermo MS60K-HCD15KG120 1ug ON 45C_73622\tpsm_count_MC HeLa Thermo MS60K-HCD15KG120 1ug ON 45C_73631\telution_time_MC HeLa Thermo MS60K-HCD15KG120 1ug ON 45C_72878\telution_time_MC HeLa Thermo MS60K-HCD15KG120 1ug ON 45C_72882\telution_time_MC HeLa Thermo MS60K-HCD15KG120 1ug ON 45C_72898\telution_time_MC HeLa Thermo MS60K-HCD15KG120 1ug ON 45C_72904\telution_time_MC HeLa Thermo MS60K-HCD15KG120 1ug ON 45C_72907\telution_time_MC HeLa Thermo MS60K-HCD15KG120 1ug ON 45C_72911\telution_time_MC HeLa Thermo MS60K-HCD15KG120 1ug ON 45C_73324\telution_time_MC HeLa Thermo MS60K-HCD15KG120 1ug ON 45C_73334\telution_time_MC HeLa Thermo MS60K-HCD15KG120 1ug ON 45C_73344\telution_time_MC HeLa Thermo MS60K-HCD15KG120 1ug ON 45C_73495\telution_time_MC HeLa Thermo MS60K-HCD15KG120 1ug ON 45C_73500\telution_time_MC HeLa Thermo MS60K-HCD15KG120 1ug ON 45C_73578\telution_time_MC HeLa Thermo MS60K-HCD15KG120 1ug ON 45C_73592\telution_time_MC HeLa Thermo MS60K-HCD15KG120 1ug ON 45C_73599\telution_time_MC HeLa Thermo MS60K-HCD15KG120 1ug ON 45C_73622\telution_time_MC HeLa Thermo MS60K-HCD15KG120 1ug ON 45C_73631\tcorrected_time_MC HeLa Thermo MS60K-HCD15KG120 1ug ON 45C_72878\tcorrected_time_MC HeLa Thermo MS60K-HCD15KG120 1ug ON 45C_72882\tcorrected_time_MC HeLa Thermo MS60K-HCD15KG120 1ug ON 45C_72898\tcorrected_time_MC HeLa Thermo MS60K-HCD15KG120 1ug ON 45C_72904\tcorrected_time_MC HeLa Thermo MS60K-HCD15KG120 1ug ON 45C_72907\tcorrected_time_MC HeLa Thermo MS60K-HCD15KG120 1ug ON 45C_72911\tcorrected_time_MC HeLa Thermo MS60K-HCD15KG120 1ug ON 45C_73324\tcorrected_time_MC HeLa Thermo MS60K-HCD15KG120 1ug ON 45C_73334\tcorrected_time_MC HeLa Thermo MS60K-HCD15KG120 1ug ON 45C_73344\tcorrected_time_MC HeLa Thermo MS60K-HCD15KG120 1ug ON 45C_73495\tcorrected_time_MC HeLa Thermo MS60K-HCD15KG120 1ug ON 45C_73500\tcorrected_time_MC HeLa Thermo MS60K-HCD15KG120 1ug ON 45C_73578\tcorrected_time_MC HeLa Thermo MS60K-HCD15KG120 1ug ON 45C_73592\tcorrected_time_MC HeLa Thermo MS60K-HCD15KG120 1ug ON 45C_73599\tcorrected_time_MC HeLa Thermo MS60K-HCD15KG120 1ug ON 45C_73622\tcorrected_time_MC HeLa Thermo MS60K-HCD15KG120 1ug ON 45C_73631\traw_abundance_MC HeLa Thermo MS60K-HCD15KG120 1ug ON 45C_72878\traw_abundance_MC HeLa Thermo MS60K-HCD15KG120 1ug ON 45C_72882\traw_abundance_MC HeLa Thermo MS60K-HCD15KG120 1ug ON 45C_72898\traw_abundance_MC HeLa Thermo MS60K-HCD15KG120 1ug ON 45C_72904\traw_abundance_MC HeLa Thermo MS60K-HCD15KG120 1ug ON 45C_72907\traw_abundance_MC HeLa Thermo MS60K-HCD15KG120 1ug ON 45C_72911\traw_abundance_MC HeLa Thermo MS60K-HCD15KG120 1ug ON 45C_73324\traw_abundance_MC HeLa Thermo MS60K-HCD15KG120 1ug ON 45C_73334\traw_abundance_MC HeLa Thermo MS60K-HCD15KG120 1ug ON 45C_73344\traw_abundance_MC HeLa Thermo MS60K-HCD15KG120 1ug ON 45C_73495\traw_abundance_MC HeLa Thermo MS60K-HCD15KG120 1ug ON 45C_73500\traw_abundance_MC HeLa Thermo MS60K-HCD15KG120 1ug ON 45C_73578\traw_abundance_MC HeLa Thermo MS60K-HCD15KG120 1ug ON 45C_73592\traw_abundance_MC HeLa Thermo MS60K-HCD15KG120 1ug ON 45C_73599\traw_abundance_MC HeLa Thermo MS60K-HCD15KG120 1ug ON 45C_73622\traw_abundance_MC HeLa Thermo MS60K-HCD15KG120 1ug ON 45C_73631'''\n",
    "\n",
    "elution_time_new_file = '''elution_time_MC HeLa Thermo MS60K-HCD15KG120 1ug ON 45C_72878\telution_time_MC HeLa Thermo MS60K-HCD15KG120 1ug ON 45C_72882\telution_time_MC HeLa Thermo MS60K-HCD15KG120 1ug ON 45C_72898\telution_time_MC HeLa Thermo MS60K-HCD15KG120 1ug ON 45C_72904\telution_time_MC HeLa Thermo MS60K-HCD15KG120 1ug ON 45C_72907\telution_time_MC HeLa Thermo MS60K-HCD15KG120 1ug ON 45C_72911\telution_time_MC HeLa Thermo MS60K-HCD15KG120 1ug ON 45C_73324\telution_time_MC HeLa Thermo MS60K-HCD15KG120 1ug ON 45C_73334\telution_time_MC HeLa Thermo MS60K-HCD15KG120 1ug ON 45C_73344\telution_time_MC HeLa Thermo MS60K-HCD15KG120 1ug ON 45C_73495\telution_time_MC HeLa Thermo MS60K-HCD15KG120 1ug ON 45C_73500\telution_time_MC HeLa Thermo MS60K-HCD15KG120 1ug ON 45C_73578\telution_time_MC HeLa Thermo MS60K-HCD15KG120 1ug ON 45C_73592\telution_time_MC HeLa Thermo MS60K-HCD15KG120 1ug ON 45C_73599\telution_time_MC HeLa Thermo MS60K-HCD15KG120 1ug ON 45C_73622\telution_time_MC HeLa Thermo MS60K-HCD15KG120 1ug ON 45C_73631'''\n",
    "\n",
    "# elution_time_new_file = elution_time_new_file.replace(' ','_')\n",
    "# elution_time_new_file = elution_time_new_file.replace('-','_')\n",
    "elution_time_new_file = elution_time_new_file.split('\\t')\n",
    "\n",
    "\n",
    "labels = '''elution_time_MC HeLa Thermo MS60K-HCD15KG120 1ug ON 45C_72878\telution_time_MC HeLa Thermo MS60K-HCD15KG120 1ug ON 45C_72882\telution_time_MC HeLa Thermo MS60K-HCD15KG120 1ug ON 45C_72898\telution_time_MC HeLa Thermo MS60K-HCD15KG120 1ug ON 45C_72904\telution_time_MC HeLa Thermo MS60K-HCD15KG120 1ug ON 45C_72907\telution_time_MC HeLa Thermo MS60K-HCD15KG120 1ug ON 45C_72911\telution_time_MC HeLa Thermo MS60K-HCD15KG120 1ug ON 45C_73324\telution_time_MC HeLa Thermo MS60K-HCD15KG120 1ug ON 45C_73334\telution_time_MC HeLa Thermo MS60K-HCD15KG120 1ug ON 45C_73344\telution_time_MC HeLa Thermo MS60K-HCD15KG120 1ug ON 45C_73495\telution_time_MC HeLa Thermo MS60K-HCD15KG120 1ug ON 45C_73500\telution_time_MC HeLa Thermo MS60K-HCD15KG120 1ug ON 45C_73578\telution_time_MC HeLa Thermo MS60K-HCD15KG120 1ug ON 45C_73592\telution_time_MC HeLa Thermo MS60K-HCD15KG120 1ug ON 45C_73599\telution_time_MC HeLa Thermo MS60K-HCD15KG120 1ug ON 45C_73622\telution_time_MC HeLa Thermo MS60K-HCD15KG120 1ug ON 45C_73631\t'''\n",
    "labels = labels.replace('\\t','_labels\\t')\n",
    "# labels = labels.replace('-','_')\n",
    "# labels = labels.replace(' ','_')\n",
    "labels = labels.split('\\t')\n",
    "\n",
    "df = pd.read_table(__DATA_2_PATH__, sep='\\t', names=names.split('\\t'))\n",
    "df = df[1:]\n",
    "df.head()\n",
    "\n",
    "ions = np.array(df['master_quant_peptide_ion_charge'].values)\n",
    "ions = np.concatenate((ions,charge))\n",
    "\n",
    "seq1 = np.array(df['sequence'].values)\n",
    "seq = np.concatenate((seq1,seq))\n",
    "\n",
    "data = pd.DataFrame(list(zip(seq, ions)),\n",
    "               columns =['seq', 'charge'])\n",
    "print(data.shape)\n",
    "data.head()"
   ]
  },
  {
   "cell_type": "markdown",
   "metadata": {},
   "source": [
    "### One Hot modified functions "
   ]
  },
  {
   "cell_type": "code",
   "execution_count": 102,
   "metadata": {},
   "outputs": [],
   "source": [
    "##Prediction of LCMSMS properties of peptides from sequence by deep learning\n",
    "##Shenheng Guan1, Michael F. Moran, and Bin Ma\n",
    "##2019-02-21\n",
    "\n",
    "## MODIFIED BY JAVIER PELEGRIN GARCIA\n",
    "##2023-07-28\n",
    "\n",
    "import numpy as np\n",
    "\n",
    "\n",
    "\n",
    "class InvalidPeptideLength(Exception):\n",
    "    \"Error peptide is too long.\"\n",
    "    pass\n",
    "\n",
    "class InvalidCharge(Exception):\n",
    "    \"Error charge is invalid.\"\n",
    "    pass\n",
    "\n",
    "\n",
    "psi_to_single_ptm = {'(Acetyl)-': 'B',\n",
    "                     '(Carbamyl)': 'O',\n",
    "                     '(Carbamidomethyl)': '',\n",
    "                     'M(Oxidation)': 'J',\n",
    "                     '(Gln->pyro-Glu)Q': 'X',\n",
    "                     'N(Deamidated)': 'D',\n",
    "                     'Q(Deamidated)': 'E'}\n",
    "\n",
    "def reshapeOneHot(X):\n",
    "    X = np.dstack(X)\n",
    "    X = np.swapaxes(X, 1, 2)\n",
    "    X = np.swapaxes(X, 0, 1)\n",
    "    return X\n",
    "\n",
    "def get_single_ptm_code(psi_sequence):\n",
    "    sequence = psi_sequence\n",
    "    for ptm in psi_to_single_ptm:\n",
    "        sequence = sequence.replace(ptm, psi_to_single_ptm[ptm])\n",
    "    return sequence\n",
    "\n",
    "def one_hot_encode_peptide(psi_sequence, MAX_LENGTH = 41):\n",
    "    peptide = get_single_ptm_code(psi_sequence)\n",
    "    if len(peptide) > MAX_LENGTH:\n",
    "        # print('Peptide length is larger than maximal length of ', str(MAX_LENGTH))\n",
    "        raise InvalidPeptideLength\n",
    "    else:\n",
    "        AA_vocabulary = 'KRPTNAQVSGILCMJHFYWEDBXOU'#B: acetyl; O: Carbamyl; J: oxidized Met; X:pyro_glu\n",
    "        no_not_used_aas = 2#U: not used\n",
    "\n",
    "        one_hot_peptide = np.zeros((len(peptide), len(AA_vocabulary) - no_not_used_aas))\n",
    "\n",
    "        # print(one_hot_peptide.shape,(len(peptide), len(AA_vocabulary) - no_not_used_aas))\n",
    "\n",
    "        for j in range(0, len(peptide)):\n",
    "            try:\n",
    "                aa = peptide[j]\n",
    "                one_hot_peptide[j, AA_vocabulary.index(aa)] = 1\n",
    "            except:\n",
    "                pass\n",
    "        \n",
    "        no_front_paddings = int((MAX_LENGTH - len(peptide))/2)\n",
    "        peptide_front_paddings = np.zeros((no_front_paddings, one_hot_peptide.shape[1]))\n",
    "\n",
    "        no_back_paddings = MAX_LENGTH - len(peptide) - no_front_paddings\n",
    "        peptide_back_paddings = np.zeros((no_back_paddings, one_hot_peptide.shape[1]))\n",
    "\n",
    "        full_one_hot_peptide = np.vstack((peptide_front_paddings, one_hot_peptide, peptide_back_paddings))\n",
    "\n",
    "        return peptide, full_one_hot_peptide\n",
    "    \n",
    "def one_hot_encode_peptide_ion(psi_sequence, charge, MAX_LENGTH = 41, MAX_CHARGE = 6):\n",
    "\n",
    "    if len(psi_sequence) >= MAX_CHARGE:\n",
    "        raise InvalidPeptideLength\n",
    "\n",
    "    peptide, full_one_hot_peptide = one_hot_encode_peptide(psi_sequence)\n",
    "    \n",
    "    one_hot_charge = np.zeros((len(peptide), MAX_CHARGE))\n",
    "    one_hot_charge[:, charge - 1] = 1\n",
    "    \n",
    "    no_front_paddings = int((MAX_LENGTH - len(peptide))/2)\n",
    "    charge_front_paddings = np.zeros((no_front_paddings, one_hot_charge.shape[1]))\n",
    "\n",
    "    no_back_paddings = MAX_LENGTH - len(peptide) - no_front_paddings\n",
    "    charge_back_paddings = np.zeros((no_back_paddings, one_hot_charge.shape[1]))\n",
    "\n",
    "    full_one_hot_charge = np.vstack((charge_front_paddings, one_hot_charge, charge_back_paddings))\n",
    "\n",
    "    full_one_hot_peptide_ion = np.hstack((full_one_hot_peptide, full_one_hot_charge))\n",
    "\n",
    "    return full_one_hot_peptide_ion\n",
    "\n",
    "\n",
    "def on_hot_encode_charge(charge,MAX_CHARGE = 6):\n",
    "    if charge > MAX_CHARGE:\n",
    "        raise InvalidCharge\n",
    "    one_hot_charge = np.zeros((1, MAX_CHARGE))\n",
    "    one_hot_charge[:, charge - 1] = 1\n",
    "    return one_hot_charge"
   ]
  },
  {
   "cell_type": "code",
   "execution_count": 47,
   "metadata": {},
   "outputs": [],
   "source": [
    "class differentlenght(Exception):\n",
    "    \"List have differents length\"\n",
    "    pass\n",
    "\n",
    "def normalize_data(list_seq, list_charge):\n",
    "    label, one_hot = [], []\n",
    "    if len(list_seq) != len(list_charge):\n",
    "        print(f\"list of seq: {len(list_seq)} and list of charge: {len(list_charge)} have differents length.\")\n",
    "        raise differentlenght\n",
    "    for seq,charge in zip(list_seq,list_charge):\n",
    "        try:\n",
    "            one_hot.append(one_hot_encode_peptide(seq)[1])\n",
    "            label.append(on_hot_encode_charge(charge))\n",
    "        except InvalidPeptideLength:\n",
    "            print(f\"peptide {seq} with length = {len(seq)} is too long, Max length is 41\")\n",
    "            pass\n",
    "        except InvalidCharge:\n",
    "            print(f\"peptide {seq} with charge = {charge} is invalid\")\n",
    "            one_hot.pop()\n",
    "            pass\n",
    "    return np.array(label),np.array(one_hot)"
   ]
  },
  {
   "cell_type": "markdown",
   "metadata": {},
   "source": [
    "#### Normalize data"
   ]
  },
  {
   "cell_type": "code",
   "execution_count": null,
   "metadata": {},
   "outputs": [],
   "source": [
    "X,y = normalize_data(data['seq'].values, data['charge'].values)\n",
    "\n",
    "X_train, X_test, y_train, y_test = train_test_split(X, y, test_size=0.33, random_state=42)\n",
    "\n",
    "print('Total corpus size')\n",
    "print('\\t• train :', len(X_train), 'exemples')\n",
    "print('\\t• test :', len(X_test), 'exemples')\n",
    "\n",
    "# Affichage de la taille des images et des labels dans le corpus \n",
    "print('\\nTraining data size')\n",
    "print('\\t• X_train (masse,residues,charge):', X_train.shape)\n",
    "print('\\t• y_train (labels) :', y_train.shape)\n",
    "\n",
    "print('\\nTest data size')\n",
    "print('\\t• X_test (masse,residues,charge) :', X_test.shape)\n",
    "print('\\t• y_test (labels) :', y_test.shape)"
   ]
  },
  {
   "cell_type": "markdown",
   "metadata": {},
   "source": [
    "#### Load the model from keras"
   ]
  },
  {
   "cell_type": "code",
   "execution_count": null,
   "metadata": {},
   "outputs": [],
   "source": [
    "from keras.models import load_model\n",
    "\n",
    "model = load_model(__path_model__)\n",
    "\n",
    "history = model.fit(X_train, \n",
    "\t\t      y_train, \n",
    "\t\t      epochs=200,  # More epochs because more data\n",
    "\t\t      batch_size=1024,\n",
    "\t\t      validation_split=0.2)\n",
    "\n",
    "cost = model.evaluate(X_test, y_test, batch_size=1024)\n",
    "print('test cost:', cost)\n",
    "from keras.models import load_model\n",
    "model.save(\"Model_one_hot_calibration_my_data.h5\")"
   ]
  },
  {
   "cell_type": "markdown",
   "metadata": {},
   "source": [
    "Start predictions with test data"
   ]
  },
  {
   "cell_type": "code",
   "execution_count": null,
   "metadata": {},
   "outputs": [],
   "source": [
    "predict_charge = model.predict(X_test)"
   ]
  },
  {
   "cell_type": "code",
   "execution_count": null,
   "metadata": {},
   "outputs": [],
   "source": [
    "f = lambda x : np.argmax(x)+1\n",
    "predict_y = np.array(list(map(f,predict_charge)))\n",
    "\n",
    "charge = np.array(list(map(f,y_test)))\n",
    "\n",
    "y_pred = [[],[],[],[]]\n",
    "for pred,real in zip(predict_y,charge):\n",
    "    y_pred[real-2].append(pred)\n",
    "\n",
    "# print(y_pred)\n",
    "print(f'RMSE: {mean_squared_error(charge, predict_y, squared=False)}')\n",
    "plt.violinplot(y_pred)\n",
    "plt.xticks([1,2,3,4],['2+','3+','4+','5+'])\n",
    "plt.xlabel('Real charge')\n",
    "plt.ylabel('Prediced charge')\n",
    "plt.title('Model of Prediction of LC-MS/MS Properties of Peptides from Sequence by Deep Learning')\n",
    "plt.show()"
   ]
  }
 ],
 "metadata": {
  "kernelspec": {
   "display_name": "Python 3",
   "language": "python",
   "name": "python3"
  },
  "language_info": {
   "codemirror_mode": {
    "name": "ipython",
    "version": 3
   },
   "file_extension": ".py",
   "mimetype": "text/x-python",
   "name": "python",
   "nbconvert_exporter": "python",
   "pygments_lexer": "ipython3",
   "version": "3.11.3"
  },
  "orig_nbformat": 4
 },
 "nbformat": 4,
 "nbformat_minor": 2
}
