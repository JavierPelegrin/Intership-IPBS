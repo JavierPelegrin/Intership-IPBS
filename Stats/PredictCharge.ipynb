{
 "cells": [
  {
   "attachments": {},
   "cell_type": "markdown",
   "metadata": {},
   "source": [
    "# Random Forest\n",
    "Author: Javier Pelegrin Garcia\n",
    "\n",
    "Date: 15/05/2023"
   ]
  },
  {
   "attachments": {},
   "cell_type": "markdown",
   "metadata": {},
   "source": [
    "This notebook is an approach to the analysis of peptide data detected with mass spectrometry.\n",
    "\n",
    "The purpose of these models is to predict the charge of peptides"
   ]
  },
  {
   "attachments": {},
   "cell_type": "markdown",
   "metadata": {},
   "source": [
    "To run this notebook it is necessary to run <a href=\"./main.ipynb\">Main</a> first."
   ]
  },
  {
   "cell_type": "code",
   "execution_count": 1,
   "metadata": {},
   "outputs": [],
   "source": [
    "import numpy as np\n",
    "import pandas as pd\n",
    "import matplotlib.pyplot as plt\n",
    "import random\n",
    "from pyteomics import mass\n",
    "from pyteomics import electrochem\n",
    "\n",
    "from sklearn.ensemble import RandomForestClassifier\n",
    "from sklearn.model_selection import train_test_split\n",
    "from sklearn.metrics import accuracy_score, confusion_matrix\n",
    "from sklearn.metrics import mean_squared_error\n",
    "\n",
    "from utils.parseData import mz_to_mass\n",
    "from utils.parseData import count_basic_residues\n",
    "from utils.parseData import gererate_dic\n",
    "from utils.parseData import PROTON_MASS\n",
    "from utils.parseData import adjacent_values\n",
    "from utils.parseData import set_axis_style\n",
    "from utils.parseData import PH\n",
    "from utils.parseData import find_peptide\n",
    "\n",
    "def find_peptide(dic, condition):\n",
    "    for i in dic.keys():\n",
    "        for k in dic[i].keys():\n",
    "            if k != 'total':\n",
    "                if eval(condition):\n",
    "                    print(i, dic[i])\n",
    "                    return dic[i]\n",
    "\n",
    "\n",
    "import joblib\n",
    "\n",
    "IS_TRAINED_2 = True\n",
    "IS_TRAINED_3 = True \n",
    "IS_TRAINED   = True\n",
    "\n",
    "# laad de data\n",
    "dic = joblib.load('data/dic.pkl')\n",
    "\n",
    "#load the model\n",
    "try:\n",
    "    modele_rf_2 = joblib.load('models/model_rf_pc_2.rdf')\n",
    "    modele_rf_3 = joblib.load('models/model_rf_pc_3.rdf')\n",
    "    modele_rf   = joblib.load('models/model_rf_pc.rdf')\n",
    "except:\n",
    "    pass"
   ]
  },
  {
   "attachments": {},
   "cell_type": "markdown",
   "metadata": {},
   "source": [
    "# Model with data less than 100% persentage"
   ]
  },
  {
   "cell_type": "code",
   "execution_count": 2,
   "metadata": {},
   "outputs": [
    {
     "name": "stdout",
     "output_type": "stream",
     "text": [
      "(4786, 4) (4786,)\n",
      "Total corpus size\n",
      "\t• train : 3590 exemples\n",
      "\t• test : 1196 exemples\n",
      "\n",
      "Training data size\n",
      "\t• X_train (masse,residues,charge): (3590, 4)\n",
      "\t• y_train (labels) : (3590,)\n",
      "\n",
      "Test data size\n",
      "\t• X_test (masse,residues,charge) : (1196, 4)\n",
      "\t• y_test (labels) : (1196,)\n"
     ]
    }
   ],
   "source": [
    "def generate_data(dic, min_mass=0, max_mass=np.inf, min_charge=0, max_charge=np.inf, min_residues=0, max_residues=np.inf):\n",
    "    mass = []\n",
    "    residues = []\n",
    "    charge = []\n",
    "    mass = []\n",
    "    persentage = []\n",
    "    labels = []\n",
    "\n",
    "    for i in dic.keys():\n",
    "        for j in dic[i].keys():\n",
    "            if j != 'total':\n",
    "                if dic[i][j]['%'] < 1 and electrochem.charge(dic[i][j]['sequence'], pH=PH) > min_charge and electrochem.charge(dic[i][j]['sequence'], pH=PH) < max_charge and dic[i][j]['Masse'] > min_mass and dic[i][j]['Masse'] < max_mass and count_basic_residues(dic[i][j]['sequence']) > min_residues and count_basic_residues(dic[i][j]['sequence']) < max_residues: \n",
    "                    mass.append(dic[i][j]['Mass_excel'])\n",
    "                    residues.append(count_basic_residues(dic[i][j]['sequence']))\n",
    "                    charge.append(electrochem.charge(dic[i][j]['sequence'], pH=PH))\n",
    "                    persentage.append(dic[i][j]['%'])\n",
    "                    labels.append(j)\n",
    "    \n",
    "    return mass, residues, charge, persentage, labels\n",
    "\n",
    "mass, residues, charge, persentage, labels  = generate_data(dic, min_charge=2)\n",
    "\n",
    "def shuffle(l1, l2):\n",
    "    temp = list(zip(l1, l2))\n",
    "    random.shuffle(temp)\n",
    "    res1, res2 = zip(*temp)\n",
    "    res1, res2 = np.array(res1), np.array(res2)\n",
    "    return res1, res2\n",
    "\n",
    "x_train = np.array([ [m, r, c,p] for m, r, c, p in zip(mass, residues, charge, persentage) ])\n",
    "y_train = np.array(labels)\n",
    "print(x_train.shape, y_train.shape)\n",
    "x_test = []\n",
    "y_test = []\n",
    "\n",
    "for _ in range(10):\n",
    "    x_train, y_train = shuffle(x_train, y_train)\n",
    "\n",
    "for i in range(round(x_train.shape[0]*0.25)):\n",
    "    x_test.append(x_train[i])\n",
    "    x_train = np.delete(x_train, i, 0)\n",
    "    y_test.append(y_train[i])\n",
    "    y_train = np.delete(y_train, i)\n",
    "\n",
    "x_test = np.array(x_test)\n",
    "y_test = np.array(y_test)\n",
    "y_test = (y_test).round().astype(int)\n",
    "y_train = (y_train).round().astype(int)\n",
    "\n",
    "y_test_2 = y_test.copy()\n",
    "x_test_2 = x_test.copy()\n",
    "\n",
    "# Affichage du nombre d'exemples totales dans le corpus\n",
    "print('Total corpus size')\n",
    "print('\\t• train :', len(x_train), 'exemples')\n",
    "print('\\t• test :', len(x_test), 'exemples')\n",
    "\n",
    "# Affichage de la taille des images et des labels dans le corpus \n",
    "print('\\nTraining data size')\n",
    "print('\\t• X_train (masse,residues,charge):', x_train.shape)\n",
    "print('\\t• y_train (labels) :', y_train.shape)\n",
    "\n",
    "print('\\nTest data size')\n",
    "print('\\t• X_test (masse,residues,charge) :', x_test.shape)\n",
    "print('\\t• y_test (labels) :', y_test.shape)"
   ]
  },
  {
   "cell_type": "code",
   "execution_count": 3,
   "metadata": {},
   "outputs": [],
   "source": [
    "if not IS_TRAINED_2:\n",
    "    modele_rf_2 = RandomForestClassifier(n_estimators=10000, max_depth=10 ,random_state=123, min_samples_split=20, criterion='gini', min_samples_leaf=5, bootstrap=True, n_jobs=6, warm_start=True)\n",
    "    modele_rf_2.fit(x_train, y_train)\n",
    "    joblib.dump(modele_rf_2, 'models/model_rf_pc_2.rdf')"
   ]
  },
  {
   "cell_type": "code",
   "execution_count": 4,
   "metadata": {},
   "outputs": [],
   "source": [
    "y_pred_2 = modele_rf_2.predict(x_test)"
   ]
  },
  {
   "cell_type": "code",
   "execution_count": 5,
   "metadata": {},
   "outputs": [
    {
     "name": "stdout",
     "output_type": "stream",
     "text": [
      "RMSE: 0.43661819877899816\n"
     ]
    },
    {
     "data": {
      "image/png": "[encoded data removed]",
      "text/plain": [
       "<Figure size 640x480 with 1 Axes>"
      ]
     },
     "metadata": {},
     "output_type": "display_data"
    }
   ],
   "source": [
    "y_pred = [[],[],[],[]]\n",
    "for i,elem in enumerate(y_test_2):\n",
    "    y_pred[elem-2].append(y_pred_2[i])\n",
    "\n",
    "print(f'RMSE: {mean_squared_error(y_test_2, y_pred_2, squared=False)}')\n",
    "plt.violinplot(y_pred)\n",
    "plt.xticks([1,2,3,4],['2+','3+','4+','5+'])\n",
    "plt.xlabel('Real Charge')\n",
    "plt.ylabel('Predicted Charge')\n",
    "plt.title('without 100% Model')\n",
    "plt.show()"
   ]
  },
  {
   "cell_type": "code",
   "execution_count": 6,
   "metadata": {},
   "outputs": [
    {
     "name": "stdout",
     "output_type": "stream",
     "text": [
      "2283124 {5: {'sequence': 'GINLSSGDQNLAPEIGMQEIALHSGEEPHAEEHLK', 'abundance': 9555105, 'ion_moz': 750.965576171875, 'master_quant_peptide_ion_id': 333956, '%': 1.0, 'Masse': 2755.455613044792, 'Mass_excel': 3749.791500859375}, 'total': 9555105}\n",
      "\tpredicted charge: 4\n",
      "\treal charge: 5\n",
      "\n",
      "2278144 {3: {'sequence': 'RPHDYQPLPGMSENPSVYVPGVVSTVVPDSAHK', 'abundance': 7139863, 'ion_moz': 1187.26123046875, 'master_quant_peptide_ion_id': 309780, '%': 0.07933857163895444, 'Masse': 4458.445142376894, 'Mass_excel': 3558.76186340625}, 4: {'sequence': 'RPHDYQPLPGMSENPSVYVPGVVSTVVPDSAHK', 'abundance': 41001440, 'ion_moz': 890.6973266601562, 'master_quant_peptide_ion_id': 309781, '%': 0.4556103786221517, 'Masse': 3343.832296317391, 'Mass_excel': 3558.760202640625}, 5: {'sequence': 'RPHDYQPLPGMSENPSVYVPGVVSTVVPDSAHK', 'abundance': 41851028, 'ion_moz': 712.7586669921875, 'master_quant_peptide_ion_id': 309782, '%': 0.4650510497388939, 'Masse': 2675.063395822561, 'Mass_excel': 3558.7569549609375}, 'total': 89992331}\n",
      "\tpredicted charge: 4\n",
      "\treal charge: 5\n"
     ]
    }
   ],
   "source": [
    "find_peptide(dic,\"k == 5 and dic[i][k]['%'] == 1\")\n",
    "\n",
    "mass = dic[2283124][5]['Mass_excel']\n",
    "charge = electrochem.charge(dic[2283124][5]['sequence'], pH=PH)\n",
    "residues = count_basic_residues(dic[2283124][5]['sequence'])\n",
    "persentage = dic[2283124][5]['%']\n",
    "\n",
    "print(f\"\\tpredicted charge: {modele_rf_2.predict(np.array([mass,charge,residues,persentage]).reshape(1,-1))[0]}\")\n",
    "print(f\"\\treal charge: {5}\\n\")\n",
    "\n",
    "find_peptide(dic,\"k == 5 and dic[i][k]['%'] != 1\")\n",
    "mass = dic[2278144][5]['Mass_excel']\n",
    "charge = electrochem.charge(dic[2278144][5]['sequence'], pH=PH)\n",
    "residues = count_basic_residues(dic[2278144][5]['sequence'])\n",
    "persentage = dic[2278144][5]['%']\n",
    "\n",
    "print(f\"\\tpredicted charge: {modele_rf_2.predict(np.array([mass,charge,residues,persentage]).reshape(1,-1))[0]}\")\n",
    "print(f\"\\treal charge: {5}\")\n",
    "\n"
   ]
  },
  {
   "attachments": {},
   "cell_type": "markdown",
   "metadata": {},
   "source": [
    "# Model with data 100% include"
   ]
  },
  {
   "cell_type": "code",
   "execution_count": 7,
   "metadata": {},
   "outputs": [
    {
     "name": "stdout",
     "output_type": "stream",
     "text": [
      "(11635, 4) (11635,)\n",
      "Total corpus size\n",
      "\t• train : 8726 exemples\n",
      "\t• test : 2909 exemples\n",
      "\n",
      "Training data size\n",
      "\t• X_train (masse,residues,charge): (8726, 4)\n",
      "\t• y_train (labels) : (8726,)\n",
      "\n",
      "Test data size\n",
      "\t• X_test (masse,residues,charge) : (2909, 4)\n",
      "\t• y_test (labels) : (2909,)\n"
     ]
    }
   ],
   "source": [
    "def generate_data(dic, min_mass=0, max_mass=np.inf, min_charge=0, max_charge=np.inf, min_residues=0, max_residues=np.inf):\n",
    "    mass = []\n",
    "    residues = []\n",
    "    charge = []\n",
    "    mass = []\n",
    "    persentage = []\n",
    "    labels = []\n",
    "\n",
    "    for i in dic.keys():\n",
    "        for j in dic[i].keys():\n",
    "            if j != 'total':\n",
    "                if electrochem.charge(dic[i][j]['sequence'], pH=PH) > min_charge and electrochem.charge(dic[i][j]['sequence'], pH=PH) < max_charge and dic[i][j]['Masse'] > min_mass and dic[i][j]['Masse'] < max_mass and count_basic_residues(dic[i][j]['sequence']) > min_residues and count_basic_residues(dic[i][j]['sequence']) < max_residues: \n",
    "                    mass.append(dic[i][j]['Mass_excel'])\n",
    "                    residues.append(count_basic_residues(dic[i][j]['sequence']))\n",
    "                    charge.append(electrochem.charge(dic[i][j]['sequence'], pH=PH))\n",
    "                    persentage.append(dic[i][j]['%'])\n",
    "                    labels.append(j)\n",
    "    \n",
    "    return mass, residues, charge, persentage, labels\n",
    "\n",
    "mass, residues, charge, persentage, labels  = generate_data(dic, min_charge=2)\n",
    "\n",
    "def shuffle(l1, l2):\n",
    "    temp = list(zip(l1, l2))\n",
    "    random.shuffle(temp)\n",
    "    res1, res2 = zip(*temp)\n",
    "    res1, res2 = np.array(res1), np.array(res2)\n",
    "    return res1, res2\n",
    "\n",
    "x_train = np.array([ [m, r, c,p] for m, r, c, p in zip(mass, residues, charge, persentage) ])\n",
    "y_train = np.array(labels)\n",
    "print(x_train.shape, y_train.shape)\n",
    "x_test = []\n",
    "y_test = []\n",
    "\n",
    "for _ in range(10):\n",
    "    x_train, y_train = shuffle(x_train, y_train)\n",
    "\n",
    "for i in range(round(x_train.shape[0]*0.25)):\n",
    "    x_test.append(x_train[i])\n",
    "    x_train = np.delete(x_train, i, 0)\n",
    "    y_test.append(y_train[i])\n",
    "    y_train = np.delete(y_train, i)\n",
    "\n",
    "x_test = np.array(x_test)\n",
    "y_test = np.array(y_test)\n",
    "y_test = (y_test).round().astype(int)\n",
    "y_train = (y_train).round().astype(int)\n",
    "\n",
    "y_test_3 = y_test.copy()\n",
    "x_test_3 = x_test.copy()\n",
    "\n",
    "# Affichage du nombre d'exemples totales dans le corpus\n",
    "print('Total corpus size')\n",
    "print('\\t• train :', len(x_train), 'exemples')\n",
    "print('\\t• test :', len(x_test), 'exemples')\n",
    "\n",
    "# Affichage de la taille des images et des labels dans le corpus \n",
    "print('\\nTraining data size')\n",
    "print('\\t• X_train (masse,residues,charge):', x_train.shape)\n",
    "print('\\t• y_train (labels) :', y_train.shape)\n",
    "\n",
    "print('\\nTest data size')\n",
    "print('\\t• X_test (masse,residues,charge) :', x_test.shape)\n",
    "print('\\t• y_test (labels) :', y_test.shape)"
   ]
  },
  {
   "cell_type": "code",
   "execution_count": 8,
   "metadata": {},
   "outputs": [],
   "source": [
    "if not IS_TRAINED_3:\n",
    "    modele_rf_3 = RandomForestClassifier(n_estimators=10000, max_depth=10 ,random_state=123, min_samples_split=20, criterion='gini', min_samples_leaf=5, bootstrap=True, n_jobs=6, warm_start=True)\n",
    "    modele_rf_3.fit(x_train, y_train)\n",
    "    joblib.dump(modele_rf_3, 'models/model_rf_pc_3.rdf')"
   ]
  },
  {
   "cell_type": "code",
   "execution_count": 9,
   "metadata": {},
   "outputs": [],
   "source": [
    "y_pred_3 = modele_rf_2.predict(x_test)"
   ]
  },
  {
   "cell_type": "code",
   "execution_count": 10,
   "metadata": {},
   "outputs": [
    {
     "name": "stdout",
     "output_type": "stream",
     "text": [
      "RMSE: 0.4859666965065004\n"
     ]
    },
    {
     "data": {
      "image/png": "[encoded data removed]",
      "text/plain": [
       "<Figure size 640x480 with 1 Axes>"
      ]
     },
     "metadata": {},
     "output_type": "display_data"
    }
   ],
   "source": [
    "y_pred = [[],[],[],[]]\n",
    "for i,elem in enumerate(y_test_3):\n",
    "    y_pred[elem-2].append(y_pred_3[i])\n",
    "\n",
    "print(f'RMSE: {mean_squared_error(y_test_3,y_pred_3, squared=False)}')\n",
    "plt.violinplot(y_pred)\n",
    "plt.xticks([1,2,3,4],['2+','3+','4+','5+'])\n",
    "plt.xlabel('Real charge')\n",
    "plt.ylabel('Predicted charge')\n",
    "plt.title('With 100% Model')\n",
    "plt.show()"
   ]
  },
  {
   "attachments": {},
   "cell_type": "markdown",
   "metadata": {},
   "source": [
    "# Model without persentage in data"
   ]
  },
  {
   "cell_type": "code",
   "execution_count": 11,
   "metadata": {},
   "outputs": [
    {
     "name": "stdout",
     "output_type": "stream",
     "text": [
      "(11635, 3) (11635,)\n",
      "Total corpus size\n",
      "\t• train : 8726 exemples\n",
      "\t• test : 2909 exemples\n",
      "\n",
      "Training data size\n",
      "\t• X_train (masse,residues,charge): (8726, 3)\n",
      "\t• y_train (labels) : (8726,)\n",
      "\n",
      "Test data size\n",
      "\t• X_test (masse,residues,charge) : (2909, 3)\n",
      "\t• y_test (labels) : (2909,)\n"
     ]
    }
   ],
   "source": [
    "def generate_data(dic, min_mass=0, max_mass=np.inf, min_charge=0, max_charge=np.inf, min_residues=0, max_residues=np.inf):\n",
    "    mass = []\n",
    "    residues = []\n",
    "    charge = []\n",
    "    mass = []\n",
    "    persentage = []\n",
    "    labels = []\n",
    "\n",
    "    for i in dic.keys():\n",
    "        for j in dic[i].keys():\n",
    "            if j != 'total':\n",
    "                if electrochem.charge(dic[i][j]['sequence'], pH=PH) > min_charge and electrochem.charge(dic[i][j]['sequence'], pH=PH) < max_charge and dic[i][j]['Masse'] > min_mass and dic[i][j]['Masse'] < max_mass and count_basic_residues(dic[i][j]['sequence']) > min_residues and count_basic_residues(dic[i][j]['sequence']) < max_residues: \n",
    "                    mass.append(dic[i][j]['Mass_excel'])\n",
    "                    residues.append(count_basic_residues(dic[i][j]['sequence']))\n",
    "                    charge.append(electrochem.charge(dic[i][j]['sequence'], pH=PH))\n",
    "                    persentage.append(dic[i][j]['%'])\n",
    "                    labels.append(j)\n",
    "    \n",
    "    return mass, residues, charge, persentage, labels\n",
    "\n",
    "mass, residues, charge, persentage, labels  = generate_data(dic, min_charge=2)\n",
    "\n",
    "def shuffle(l1, l2):\n",
    "    temp = list(zip(l1, l2))\n",
    "    random.shuffle(temp)\n",
    "    res1, res2 = zip(*temp)\n",
    "    res1, res2 = np.array(res1), np.array(res2)\n",
    "    return res1, res2\n",
    "\n",
    "x_train = np.array([ [m, r, c] for m, r, c in zip(mass, residues, charge) ])\n",
    "y_train = np.array(labels)\n",
    "print(x_train.shape, y_train.shape)\n",
    "x_test = []\n",
    "y_test = []\n",
    "\n",
    "for _ in range(10):\n",
    "    x_train, y_train = shuffle(x_train, y_train)\n",
    "\n",
    "for i in range(round(x_train.shape[0]*0.25)):\n",
    "    x_test.append(x_train[i])\n",
    "    x_train = np.delete(x_train, i, 0)\n",
    "    y_test.append(y_train[i])\n",
    "    y_train = np.delete(y_train, i)\n",
    "\n",
    "x_test = np.array(x_test)\n",
    "y_test = np.array(y_test)\n",
    "y_test = (y_test).round().astype(int)\n",
    "y_train = (y_train).round().astype(int)\n",
    "\n",
    "y_test_ = y_test.copy()\n",
    "x_test_ = x_test.copy()\n",
    "\n",
    "# Affichage du nombre d'exemples totales dans le corpus\n",
    "print('Total corpus size')\n",
    "print('\\t• train :', len(x_train), 'exemples')\n",
    "print('\\t• test :', len(x_test), 'exemples')\n",
    "\n",
    "# Affichage de la taille des images et des labels dans le corpus \n",
    "print('\\nTraining data size')\n",
    "print('\\t• X_train (masse,residues,charge):', x_train.shape)\n",
    "print('\\t• y_train (labels) :', y_train.shape)\n",
    "\n",
    "print('\\nTest data size')\n",
    "print('\\t• X_test (masse,residues,charge) :', x_test.shape)\n",
    "print('\\t• y_test (labels) :', y_test.shape)"
   ]
  },
  {
   "cell_type": "code",
   "execution_count": 12,
   "metadata": {},
   "outputs": [],
   "source": [
    "if not IS_TRAINED:\n",
    "    modele_rf = RandomForestClassifier(n_estimators=10000, max_depth=10 ,random_state=123, min_samples_split=20, criterion='gini', min_samples_leaf=5, bootstrap=True, n_jobs=6, warm_start=True)\n",
    "    modele_rf.fit(x_train, y_train)\n",
    "    joblib.dump(modele_rf, 'models/model_rf_pc.rdf')"
   ]
  },
  {
   "cell_type": "code",
   "execution_count": 15,
   "metadata": {},
   "outputs": [],
   "source": [
    "y_pred_ = modele_rf.predict(x_test)"
   ]
  },
  {
   "cell_type": "code",
   "execution_count": 16,
   "metadata": {},
   "outputs": [
    {
     "name": "stdout",
     "output_type": "stream",
     "text": [
      "RMSE: 0.5534354719280059\n"
     ]
    },
    {
     "data": {
      "image/png": "[encoded data removed]",
      "text/plain": [
       "<Figure size 640x480 with 1 Axes>"
      ]
     },
     "metadata": {},
     "output_type": "display_data"
    }
   ],
   "source": [
    "y_pred = [[],[],[],[]]\n",
    "for i,elem in enumerate(y_test_):\n",
    "    y_pred[elem-2].append(y_pred_[i])\n",
    "\n",
    "print(f'RMSE: {mean_squared_error(y_test, y_pred_, squared=False)}')\n",
    "plt.violinplot(y_pred)\n",
    "plt.xticks([1,2,3,4],['2+','3+','4+','5+'])\n",
    "plt.xlabel('Real charge')\n",
    "plt.ylabel('Prediced charge')\n",
    "plt.title('without Persent Model')\n",
    "plt.show()"
   ]
  },
  {
   "cell_type": "code",
   "execution_count": 13,
   "metadata": {},
   "outputs": [
    {
     "name": "stdout",
     "output_type": "stream",
     "text": [
      "2379 {2: {'sequence': 'QLSEILR', 'abundance': 7166869.5, 'ion_moz': 429.75323486328125, 'master_quant_peptide_ion_id': 351243, '%': 1.0, 'Masse': 482.88129853829713, 'Mass_excel': 857.4919177265625}, 'total': 7166869.5}\n"
     ]
    },
    {
     "data": {
      "text/plain": [
       "{2: {'sequence': 'QLSEILR',\n",
       "  'abundance': 7166869.5,\n",
       "  'ion_moz': 429.75323486328125,\n",
       "  'master_quant_peptide_ion_id': 351243,\n",
       "  '%': 1.0,\n",
       "  'Masse': 482.88129853829713,\n",
       "  'Mass_excel': 857.4919177265625},\n",
       " 'total': 7166869.5}"
      ]
     },
     "execution_count": 13,
     "metadata": {},
     "output_type": "execute_result"
    }
   ],
   "source": [
    "find_peptide(dic,\"dic[i][k]['%'] >= 1 and k == 2\")"
   ]
  },
  {
   "cell_type": "code",
   "execution_count": 14,
   "metadata": {},
   "outputs": [
    {
     "name": "stdout",
     "output_type": "stream",
     "text": [
      "{2: {'sequence': 'QLSEILR', 'abundance': 7166869.5, 'ion_moz': 429.75323486328125, 'master_quant_peptide_ion_id': 351243, '%': 1.0, 'Masse': 482.88129853829713, 'Mass_excel': 857.4919177265625}, 'total': 7166869.5}\n",
      "mass: 857.4919177265625, charge: 1.1262643730066704, residues: 1\n",
      "[2]\n",
      "[3]\n",
      "[2]\n"
     ]
    }
   ],
   "source": [
    "print(dic[2379])\n",
    "mass = dic[2379][2]['Mass_excel']\n",
    "charge = electrochem.charge(dic[2379][2]['sequence'], pH=PH)\n",
    "residues = count_basic_residues(dic[2379][2]['sequence'])\n",
    "persentage = dic[2379][2]['%']\n",
    "\n",
    "print(f\"mass: {mass}, charge: {charge}, residues: {residues}\")\n",
    "\n",
    "print(modele_rf.predict(np.array([mass,charge,residues]).reshape(1,-1)))\n",
    "print(modele_rf_2.predict(np.array([mass,charge,residues,persentage]).reshape(1,-1)))\n",
    "print(modele_rf_3.predict(np.array([mass,charge,residues,persentage]).reshape(1,-1)))\n"
   ]
  },
  {
   "cell_type": "markdown",
   "metadata": {},
   "source": [
    "_____________\n"
   ]
  },
  {
   "cell_type": "code",
   "execution_count": 10,
   "metadata": {},
   "outputs": [],
   "source": [
    "import numpy as np\n",
    "import pandas as pd\n",
    "import csv\n",
    "import matplotlib.pyplot as plt\n",
    "import random\n",
    "from pyteomics import mass\n",
    "from pyteomics import electrochem\n",
    "\n",
    "from sklearn.ensemble import RandomForestClassifier\n",
    "from sklearn.model_selection import train_test_split\n",
    "from sklearn.metrics import accuracy_score, confusion_matrix\n",
    "from sklearn.metrics import mean_squared_error\n",
    "\n",
    "import joblib\n"
   ]
  },
  {
   "cell_type": "code",
   "execution_count": 11,
   "metadata": {},
   "outputs": [],
   "source": [
    "__path_model__ = r\"D:\\dev\\LCMSMS_Pred_Supplemental_Material_section_S6\\ChargeState\\zfit_bidirLSTM2_masking_model.h5\"\n",
    "__DATA_1_PATH__ = r\"D:\\dev\\Stats\\data\\dic.pkl\"\n",
    "__DATA_2_PATH__ = r\"D:\\dev\\RT_STUDY\\Quantified_peptide_ions.tsv\""
   ]
  },
  {
   "cell_type": "code",
   "execution_count": 18,
   "metadata": {},
   "outputs": [
    {
     "name": "stdout",
     "output_type": "stream",
     "text": [
      "56571 56571\n",
      "(121277, 2)\n"
     ]
    },
    {
     "name": "stderr",
     "output_type": "stream",
     "text": [
      "C:\\Users\\pelegrin\\AppData\\Local\\Temp\\ipykernel_18992\\2456767834.py:32: DtypeWarning: Columns (0,3,4,5,6,7,8,9,10,11,12,13,14,15,16,17,18,19,20,21,22,23,24,25,26,27,28,29,30,31,32,33,34,35,36,37,38,39,40,41,42,43,44,45,46,47,48,49,50,51,52,53,54,55,56,57,58,59,60,61,62,63,64,65,66,67,68,69,70,71) have mixed types. Specify dtype option on import or set low_memory=False.\n",
      "  df = pd.read_table(__DATA_2_PATH__, sep='\\t', names=names.split('\\t'))\n"
     ]
    },
    {
     "data": {
      "text/plain": [
       "0         False\n",
       "1         False\n",
       "2         False\n",
       "3         False\n",
       "4         False\n",
       "          ...  \n",
       "121272     True\n",
       "121273    False\n",
       "121274     True\n",
       "121275    False\n",
       "121276    False\n",
       "Name: seq, Length: 121277, dtype: bool"
      ]
     },
     "execution_count": 18,
     "metadata": {},
     "output_type": "execute_result"
    }
   ],
   "source": [
    "dic = joblib.load(__DATA_1_PATH__)\n",
    "\n",
    "def generate_data(dic):\n",
    "    charge = []\n",
    "    seq = []\n",
    "\n",
    "    for i in dic.keys():\n",
    "        for j in dic[i].keys():\n",
    "            if j != 'total':\n",
    "                charge.append(str(j))\n",
    "                seq.append(dic[i][j]['sequence'])\n",
    "    return np.array(seq),np.array(charge)\n",
    "\n",
    "seq,charge = generate_data(dic)\n",
    "print(len(seq),len(charge))\n",
    "\n",
    "names = ''' peptide_id\tsequence\tmodifications\tmaster_elution_time\tmaster_quant_peptide_ion_moz\tmaster_quant_peptide_ion_charge\tmaster_quant_peptide_ion_elution_time\tmaster_quant_peptide_ion_feature_id\tpsm_count_MC HeLa Thermo MS60K-HCD15KG120 1ug ON 45C_72878\tpsm_count_MC HeLa Thermo MS60K-HCD15KG120 1ug ON 45C_72882\tpsm_count_MC HeLa Thermo MS60K-HCD15KG120 1ug ON 45C_72898\tpsm_count_MC HeLa Thermo MS60K-HCD15KG120 1ug ON 45C_72904\tpsm_count_MC HeLa Thermo MS60K-HCD15KG120 1ug ON 45C_72907\tpsm_count_MC HeLa Thermo MS60K-HCD15KG120 1ug ON 45C_72911\tpsm_count_MC HeLa Thermo MS60K-HCD15KG120 1ug ON 45C_73324\tpsm_count_MC HeLa Thermo MS60K-HCD15KG120 1ug ON 45C_73334\tpsm_count_MC HeLa Thermo MS60K-HCD15KG120 1ug ON 45C_73344\tpsm_count_MC HeLa Thermo MS60K-HCD15KG120 1ug ON 45C_73495\tpsm_count_MC HeLa Thermo MS60K-HCD15KG120 1ug ON 45C_73500\tpsm_count_MC HeLa Thermo MS60K-HCD15KG120 1ug ON 45C_73578\tpsm_count_MC HeLa Thermo MS60K-HCD15KG120 1ug ON 45C_73592\tpsm_count_MC HeLa Thermo MS60K-HCD15KG120 1ug ON 45C_73599\tpsm_count_MC HeLa Thermo MS60K-HCD15KG120 1ug ON 45C_73622\tpsm_count_MC HeLa Thermo MS60K-HCD15KG120 1ug ON 45C_73631\telution_time_MC HeLa Thermo MS60K-HCD15KG120 1ug ON 45C_72878\telution_time_MC HeLa Thermo MS60K-HCD15KG120 1ug ON 45C_72882\telution_time_MC HeLa Thermo MS60K-HCD15KG120 1ug ON 45C_72898\telution_time_MC HeLa Thermo MS60K-HCD15KG120 1ug ON 45C_72904\telution_time_MC HeLa Thermo MS60K-HCD15KG120 1ug ON 45C_72907\telution_time_MC HeLa Thermo MS60K-HCD15KG120 1ug ON 45C_72911\telution_time_MC HeLa Thermo MS60K-HCD15KG120 1ug ON 45C_73324\telution_time_MC HeLa Thermo MS60K-HCD15KG120 1ug ON 45C_73334\telution_time_MC HeLa Thermo MS60K-HCD15KG120 1ug ON 45C_73344\telution_time_MC HeLa Thermo MS60K-HCD15KG120 1ug ON 45C_73495\telution_time_MC HeLa Thermo MS60K-HCD15KG120 1ug ON 45C_73500\telution_time_MC HeLa Thermo MS60K-HCD15KG120 1ug ON 45C_73578\telution_time_MC HeLa Thermo MS60K-HCD15KG120 1ug ON 45C_73592\telution_time_MC HeLa Thermo MS60K-HCD15KG120 1ug ON 45C_73599\telution_time_MC HeLa Thermo MS60K-HCD15KG120 1ug ON 45C_73622\telution_time_MC HeLa Thermo MS60K-HCD15KG120 1ug ON 45C_73631\tcorrected_time_MC HeLa Thermo MS60K-HCD15KG120 1ug ON 45C_72878\tcorrected_time_MC HeLa Thermo MS60K-HCD15KG120 1ug ON 45C_72882\tcorrected_time_MC HeLa Thermo MS60K-HCD15KG120 1ug ON 45C_72898\tcorrected_time_MC HeLa Thermo MS60K-HCD15KG120 1ug ON 45C_72904\tcorrected_time_MC HeLa Thermo MS60K-HCD15KG120 1ug ON 45C_72907\tcorrected_time_MC HeLa Thermo MS60K-HCD15KG120 1ug ON 45C_72911\tcorrected_time_MC HeLa Thermo MS60K-HCD15KG120 1ug ON 45C_73324\tcorrected_time_MC HeLa Thermo MS60K-HCD15KG120 1ug ON 45C_73334\tcorrected_time_MC HeLa Thermo MS60K-HCD15KG120 1ug ON 45C_73344\tcorrected_time_MC HeLa Thermo MS60K-HCD15KG120 1ug ON 45C_73495\tcorrected_time_MC HeLa Thermo MS60K-HCD15KG120 1ug ON 45C_73500\tcorrected_time_MC HeLa Thermo MS60K-HCD15KG120 1ug ON 45C_73578\tcorrected_time_MC HeLa Thermo MS60K-HCD15KG120 1ug ON 45C_73592\tcorrected_time_MC HeLa Thermo MS60K-HCD15KG120 1ug ON 45C_73599\tcorrected_time_MC HeLa Thermo MS60K-HCD15KG120 1ug ON 45C_73622\tcorrected_time_MC HeLa Thermo MS60K-HCD15KG120 1ug ON 45C_73631\traw_abundance_MC HeLa Thermo MS60K-HCD15KG120 1ug ON 45C_72878\traw_abundance_MC HeLa Thermo MS60K-HCD15KG120 1ug ON 45C_72882\traw_abundance_MC HeLa Thermo MS60K-HCD15KG120 1ug ON 45C_72898\traw_abundance_MC HeLa Thermo MS60K-HCD15KG120 1ug ON 45C_72904\traw_abundance_MC HeLa Thermo MS60K-HCD15KG120 1ug ON 45C_72907\traw_abundance_MC HeLa Thermo MS60K-HCD15KG120 1ug ON 45C_72911\traw_abundance_MC HeLa Thermo MS60K-HCD15KG120 1ug ON 45C_73324\traw_abundance_MC HeLa Thermo MS60K-HCD15KG120 1ug ON 45C_73334\traw_abundance_MC HeLa Thermo MS60K-HCD15KG120 1ug ON 45C_73344\traw_abundance_MC HeLa Thermo MS60K-HCD15KG120 1ug ON 45C_73495\traw_abundance_MC HeLa Thermo MS60K-HCD15KG120 1ug ON 45C_73500\traw_abundance_MC HeLa Thermo MS60K-HCD15KG120 1ug ON 45C_73578\traw_abundance_MC HeLa Thermo MS60K-HCD15KG120 1ug ON 45C_73592\traw_abundance_MC HeLa Thermo MS60K-HCD15KG120 1ug ON 45C_73599\traw_abundance_MC HeLa Thermo MS60K-HCD15KG120 1ug ON 45C_73622\traw_abundance_MC HeLa Thermo MS60K-HCD15KG120 1ug ON 45C_73631'''\n",
    "\n",
    "elution_time_new_file = '''elution_time_MC HeLa Thermo MS60K-HCD15KG120 1ug ON 45C_72878\telution_time_MC HeLa Thermo MS60K-HCD15KG120 1ug ON 45C_72882\telution_time_MC HeLa Thermo MS60K-HCD15KG120 1ug ON 45C_72898\telution_time_MC HeLa Thermo MS60K-HCD15KG120 1ug ON 45C_72904\telution_time_MC HeLa Thermo MS60K-HCD15KG120 1ug ON 45C_72907\telution_time_MC HeLa Thermo MS60K-HCD15KG120 1ug ON 45C_72911\telution_time_MC HeLa Thermo MS60K-HCD15KG120 1ug ON 45C_73324\telution_time_MC HeLa Thermo MS60K-HCD15KG120 1ug ON 45C_73334\telution_time_MC HeLa Thermo MS60K-HCD15KG120 1ug ON 45C_73344\telution_time_MC HeLa Thermo MS60K-HCD15KG120 1ug ON 45C_73495\telution_time_MC HeLa Thermo MS60K-HCD15KG120 1ug ON 45C_73500\telution_time_MC HeLa Thermo MS60K-HCD15KG120 1ug ON 45C_73578\telution_time_MC HeLa Thermo MS60K-HCD15KG120 1ug ON 45C_73592\telution_time_MC HeLa Thermo MS60K-HCD15KG120 1ug ON 45C_73599\telution_time_MC HeLa Thermo MS60K-HCD15KG120 1ug ON 45C_73622\telution_time_MC HeLa Thermo MS60K-HCD15KG120 1ug ON 45C_73631'''\n",
    "\n",
    "# elution_time_new_file = elution_time_new_file.replace(' ','_')\n",
    "# elution_time_new_file = elution_time_new_file.replace('-','_')\n",
    "elution_time_new_file = elution_time_new_file.split('\\t')\n",
    "\n",
    "\n",
    "labels = '''elution_time_MC HeLa Thermo MS60K-HCD15KG120 1ug ON 45C_72878\telution_time_MC HeLa Thermo MS60K-HCD15KG120 1ug ON 45C_72882\telution_time_MC HeLa Thermo MS60K-HCD15KG120 1ug ON 45C_72898\telution_time_MC HeLa Thermo MS60K-HCD15KG120 1ug ON 45C_72904\telution_time_MC HeLa Thermo MS60K-HCD15KG120 1ug ON 45C_72907\telution_time_MC HeLa Thermo MS60K-HCD15KG120 1ug ON 45C_72911\telution_time_MC HeLa Thermo MS60K-HCD15KG120 1ug ON 45C_73324\telution_time_MC HeLa Thermo MS60K-HCD15KG120 1ug ON 45C_73334\telution_time_MC HeLa Thermo MS60K-HCD15KG120 1ug ON 45C_73344\telution_time_MC HeLa Thermo MS60K-HCD15KG120 1ug ON 45C_73495\telution_time_MC HeLa Thermo MS60K-HCD15KG120 1ug ON 45C_73500\telution_time_MC HeLa Thermo MS60K-HCD15KG120 1ug ON 45C_73578\telution_time_MC HeLa Thermo MS60K-HCD15KG120 1ug ON 45C_73592\telution_time_MC HeLa Thermo MS60K-HCD15KG120 1ug ON 45C_73599\telution_time_MC HeLa Thermo MS60K-HCD15KG120 1ug ON 45C_73622\telution_time_MC HeLa Thermo MS60K-HCD15KG120 1ug ON 45C_73631\t'''\n",
    "labels = labels.replace('\\t','_labels\\t')\n",
    "# labels = labels.replace('-','_')\n",
    "# labels = labels.replace(' ','_')\n",
    "labels = labels.split('\\t')\n",
    "\n",
    "df = pd.read_table(__DATA_2_PATH__, sep='\\t', names=names.split('\\t'))\n",
    "df = df[1:]\n",
    "df.head()\n",
    "\n",
    "ions = np.array(df['master_quant_peptide_ion_charge'].values)\n",
    "ions = np.concatenate((ions,charge))\n",
    "\n",
    "seq1 = np.array(df['sequence'].values)\n",
    "seq = np.concatenate((seq1,seq))\n",
    "\n",
    "data = pd.DataFrame(list(zip(seq, ions)),\n",
    "               columns =['seq', 'charge'])\n",
    "print(data.shape)\n",
    "data.head()\n",
    "data['seq'].duplicated()"
   ]
  },
  {
   "cell_type": "code",
   "execution_count": 19,
   "metadata": {},
   "outputs": [],
   "source": [
    "##Prediction of LCMSMS properties of peptides from sequence by deep learning\n",
    "##Shenheng Guan1, Michael F. Moran, and Bin Ma\n",
    "##2019-02-21\n",
    "\n",
    "## MODIFIED BY JAVIER PELEGRIN GARCIA\n",
    "##2023-07-28\n",
    "\n",
    "import numpy as np\n",
    "\n",
    "\n",
    "\n",
    "class InvalidPeptideLength(Exception):\n",
    "    \"Error peptide is too long.\"\n",
    "    pass\n",
    "\n",
    "class InvalidCharge(Exception):\n",
    "    \"Error charge is invalid.\"\n",
    "    pass\n",
    "\n",
    "\n",
    "psi_to_single_ptm = {'(Acetyl)-': 'B',\n",
    "                     '(Carbamyl)': 'O',\n",
    "                     '(Carbamidomethyl)': '',\n",
    "                     'M(Oxidation)': 'J',\n",
    "                     '(Gln->pyro-Glu)Q': 'X',\n",
    "                     'N(Deamidated)': 'D',\n",
    "                     'Q(Deamidated)': 'E'}\n",
    "\n",
    "def reshapeOneHot(X):\n",
    "    X = np.dstack(X)\n",
    "    X = np.swapaxes(X, 1, 2)\n",
    "    X = np.swapaxes(X, 0, 1)\n",
    "    return X\n",
    "\n",
    "def get_single_ptm_code(psi_sequence):\n",
    "    sequence = psi_sequence\n",
    "    for ptm in psi_to_single_ptm:\n",
    "        sequence = sequence.replace(ptm, psi_to_single_ptm[ptm])\n",
    "    return sequence\n",
    "\n",
    "def one_hot_encode_peptide(psi_sequence, MAX_LENGTH = 41):\n",
    "    peptide = get_single_ptm_code(psi_sequence)\n",
    "    if len(peptide) > MAX_LENGTH:\n",
    "        # print('Peptide length is larger than maximal length of ', str(MAX_LENGTH))\n",
    "        raise InvalidPeptideLength\n",
    "    else:\n",
    "        AA_vocabulary = 'KRPTNAQVSGILCMJHFYWEDBXOU'#B: acetyl; O: Carbamyl; J: oxidized Met; X:pyro_glu\n",
    "        no_not_used_aas = 2#U: not used\n",
    "\n",
    "        one_hot_peptide = np.zeros((len(peptide), len(AA_vocabulary) - no_not_used_aas))\n",
    "\n",
    "        # print(one_hot_peptide.shape,(len(peptide), len(AA_vocabulary) - no_not_used_aas))\n",
    "\n",
    "        for j in range(0, len(peptide)):\n",
    "            try:\n",
    "                aa = peptide[j]\n",
    "                one_hot_peptide[j, AA_vocabulary.index(aa)] = 1\n",
    "            except:\n",
    "                pass\n",
    "        \n",
    "        no_front_paddings = int((MAX_LENGTH - len(peptide))/2)\n",
    "        peptide_front_paddings = np.zeros((no_front_paddings, one_hot_peptide.shape[1]))\n",
    "\n",
    "        no_back_paddings = MAX_LENGTH - len(peptide) - no_front_paddings\n",
    "        peptide_back_paddings = np.zeros((no_back_paddings, one_hot_peptide.shape[1]))\n",
    "\n",
    "        full_one_hot_peptide = np.vstack((peptide_front_paddings, one_hot_peptide, peptide_back_paddings))\n",
    "\n",
    "        return peptide, full_one_hot_peptide\n",
    "    \n",
    "def one_hot_encode_peptide_ion(psi_sequence, charge, MAX_LENGTH = 41, MAX_CHARGE = 6):\n",
    "\n",
    "    if len(psi_sequence) >= MAX_CHARGE:\n",
    "        raise InvalidPeptideLength\n",
    "\n",
    "    peptide, full_one_hot_peptide = one_hot_encode_peptide(psi_sequence)\n",
    "    \n",
    "    one_hot_charge = np.zeros((len(peptide), MAX_CHARGE))\n",
    "    one_hot_charge[:, charge - 1] = 1\n",
    "    \n",
    "    no_front_paddings = int((MAX_LENGTH - len(peptide))/2)\n",
    "    charge_front_paddings = np.zeros((no_front_paddings, one_hot_charge.shape[1]))\n",
    "\n",
    "    no_back_paddings = MAX_LENGTH - len(peptide) - no_front_paddings\n",
    "    charge_back_paddings = np.zeros((no_back_paddings, one_hot_charge.shape[1]))\n",
    "\n",
    "    full_one_hot_charge = np.vstack((charge_front_paddings, one_hot_charge, charge_back_paddings))\n",
    "\n",
    "    full_one_hot_peptide_ion = np.hstack((full_one_hot_peptide, full_one_hot_charge))\n",
    "\n",
    "    return full_one_hot_peptide_ion\n",
    "\n",
    "\n",
    "def on_hot_encode_charge(charge,MAX_CHARGE = 5):\n",
    "    if charge > MAX_CHARGE:\n",
    "        raise InvalidCharge\n",
    "    one_hot_charge = np.zeros((1, MAX_CHARGE))\n",
    "    one_hot_charge[:, charge - 1] = 1\n",
    "    return one_hot_charge"
   ]
  },
  {
   "cell_type": "code",
   "execution_count": 20,
   "metadata": {},
   "outputs": [],
   "source": [
    "def pass_to_EncyclopeDIA_style(seq,mod):\n",
    "    DIA = {\n",
    "        \"Carbamidomethyl\" : ( \"+57.021464\", (\"C\")),\n",
    "        \"Oxidation\": (\"+15.99491\" ,(\"M\")),\n",
    "        \"Phosphorylation\": (\"+79.966331\" ,(\"S\", \"T\", \"Y\")),\n",
    "        \"Acetyl\": (\"+42.010565\" ,(\"K\", \"N-term\")),\n",
    "        \"Succinylation\": (\"+101.023869\" ,(\"K\")),\n",
    "        \"Ubiquitylation\": (\"+114.042927\" ,(\"K\")),\n",
    "        \"Mono-methylation\": (\"+14.015650\" ,(\"K\", \"R\")),\n",
    "        \"Di-methylation\": (\"+28.031300\" ,(\"K\", \"R\")),\n",
    "        \"Tri-methylation\": (\"+42.046950\" ,(\"K\")),\n",
    "        \"TMT0\": (\"+224.152478\" ,(\"K\", \"N-term\")),\n",
    "        \"TMT10\": (\"+229.162932\" ,(\"K\", \"N-term\")),\n",
    "        \"Pyroglutamate\": (\"-18.010565\" ,(\"N-term E\")),\n",
    "        \"Pyroglutamate\": (\"-17.026549\" ,(\"N-term\",\"Q\")),\n",
    "        \"Cyclized S-CAM-Cys\": (\"+39.994915\" ,(\"N-term\", \"C\"))\n",
    "    }\n",
    "    mod = mod.split(\"|\")\n",
    "    \n",
    "    new_seq = \"\"\n",
    "    while len(mod) > 0:\n",
    "        n = int(mod.pop(0))\n",
    "        new_seq = f\"{new_seq}{seq[:n]}[{DIA[mod.pop(0)][0]}]\"\n",
    "        seq = seq[n:]\n",
    "    return f\"{new_seq}{seq}\""
   ]
  },
  {
   "cell_type": "code",
   "execution_count": 21,
   "metadata": {},
   "outputs": [],
   "source": [
    "class differentlenght(Exception):\n",
    "    \"List have differents length\"\n",
    "    pass\n",
    "\n",
    "def normalize_data(list_seq, list_charge):\n",
    "    occ = 0\n",
    "    label, one_hot = [], []\n",
    "    if len(list_seq) != len(list_charge):\n",
    "        print(f\"list of seq: {len(list_seq)} and list of charge: {len(list_charge)} have differents length.\")\n",
    "        raise differentlenght\n",
    "    for seq,charge in zip(list_seq,list_charge):\n",
    "        try:\n",
    "            one_hot.append(one_hot_encode_peptide(seq)[1])\n",
    "            label.append(on_hot_encode_charge(charge))\n",
    "        except InvalidPeptideLength:\n",
    "            print(f\"peptide {seq} with length = {len(seq)} is too long, Max length is 41\")\n",
    "            occ+=1\n",
    "            pass\n",
    "        except InvalidCharge:\n",
    "            print(f\"peptide {seq} with charge = {charge} is invalid\")\n",
    "            one_hot.pop()\n",
    "            pass\n",
    "    print(f\"peptides bigger than 41 = {occ}\")\n",
    "    return np.array(one_hot),np.array(label)"
   ]
  },
  {
   "cell_type": "code",
   "execution_count": 23,
   "metadata": {},
   "outputs": [],
   "source": [
    "charge = []\n",
    "for i in data['charge'].values:\n",
    "    if type(i) == str: \n",
    "        i = eval(i)\n",
    "    charge.append(i)"
   ]
  },
  {
   "cell_type": "code",
   "execution_count": 24,
   "metadata": {},
   "outputs": [
    {
     "name": "stdout",
     "output_type": "stream",
     "text": [
      "peptide VGEPGHGGDPGLVSAYGAGLEGGVTGNPAEFVVNTSNAGAGALSVTIDGPSK with length = 52 is too long, Max length is 41\n",
      "peptide PNTPVLMCSVPGYDASGHVEDLAAEQNTQITSIAIGSAEGFNQADK with length = 46 is too long, Max length is 41\n",
      "peptide DADDNCVTVCNMENVDAMGVHTGDSVVVAPAQTLSNAEFQMLR with length = 43 is too long, Max length is 41\n",
      "peptide GHMPPLTSAQQALTGTINSSMQAVQAAQATLDDFDTLPPLGQDAASK with length = 47 is too long, Max length is 41\n",
      "peptide TAPSTNSSAPAVVGNPGVTEVSPEFLAALPPAIQEEVLAQQR with length = 42 is too long, Max length is 41\n",
      "peptide EIDVDAVASDGVVAAIAISEHVENAGVHSGDATLVTPPQDITAK with length = 44 is too long, Max length is 41\n",
      "peptide VVETDPSPYCIVAPDTVIHCEGEPIKREDEEESLNEVGYDDIGGCR with length = 46 is too long, Max length is 41\n",
      "peptide SEEVPAFGVASPPPLTDTPDTTANAEGDLPTTMGGPLPPHLALK with length = 44 is too long, Max length is 41\n",
      "peptide SEEVPAFGVASPPPLTDTPDTTANAEGDLPTTMGGPLPPHLALK with length = 44 is too long, Max length is 41\n",
      "peptide QNQVGVVPWSPPQSNWNPWTSSNIDEGPLAFATPEQISMDLK with length = 42 is too long, Max length is 41\n",
      "peptide FGPPEDMPQTSSSHSDLGQLASQGGLGMYETPLFLAHEEESGGR with length = 44 is too long, Max length is 41\n",
      "peptide LGSAGGLGSTLGGSSYSSCYSFGSGGGYGSSFGGVDGLLAGGEK with length = 44 is too long, Max length is 41\n",
      "peptide LLPCLHSACSACLGPAAPAAANSSGDGGAAGDGTVVDCPVCK with length = 42 is too long, Max length is 41\n",
      "peptide LLPCLHSACSACLGPAAPAAANSSGDGGAAGDGTVVDCPVCK with length = 42 is too long, Max length is 41\n",
      "peptide AATDAQDANQCCTSCEDNAPATSYCVECSEPLCETCVEAHQR with length = 42 is too long, Max length is 41\n",
      "peptide SVGGLVAQQQCVGPLQTPLADVAVVALSHEELIGAATALGEQPVK with length = 45 is too long, Max length is 41\n",
      "peptide DYTRPDLPSGDSQPSLDQTMAAAFGLSVPNVHGALAPLAIPSAAAAAAAAGR with length = 52 is too long, Max length is 41\n",
      "peptide TGGFGAAPVFGSPPTFGGSPGFGGVPAFGSAPAFTSPLGSTGGK with length = 44 is too long, Max length is 41\n",
      "peptide STEEATSSALPEKPGDSEVSASAASLLEEQQSAQLPQAPPQTSDSVK with length = 47 is too long, Max length is 41\n",
      "peptide IPDEEATKPEGWLDDEPEYVPDPDAEKPEDWDEDMDGEWEAPQIANPR with length = 48 is too long, Max length is 41\n",
      "peptide IPDEEATKPEGWLDDEPEYVPDPDAEKPEDWDEDMDGEWEAPQIANPR with length = 48 is too long, Max length is 41\n",
      "peptide TEGGGSEAPLCPGPPAGEEPAISEAAPEAGAPTSASGLNGHPTLSGGGDQR with length = 51 is too long, Max length is 41\n",
      "peptide TEPAAEAEAASGPSESPSPPAAEELPGSHAEPPVPAQGEAPGEQAR with length = 46 is too long, Max length is 41\n",
      "peptide AEPGQQQPAAEPPPAEGLLRPAGPGAPEAAGTEASSEEVGIAEAGPESEVR with length = 51 is too long, Max length is 41\n",
      "peptide GGYGGGGPGYGNQGGGYGGGYDNYGGGNYGSGNYNDFGNYNQQPSNYGPMK with length = 51 is too long, Max length is 41\n",
      "peptide GGYGGGGPGYGNQGGGYGGGYDNYGGGNYGSGNYNDFGNYNQQPSNYGPMK with length = 51 is too long, Max length is 41\n",
      "peptide QTNNQQNWGSQPIAQQPLQQGGDYSGNYGYNNDNQEFYQDTYGQQWK with length = 47 is too long, Max length is 41\n",
      "peptide ELDDDMDGTVSVTELQTHPELDTDGDGALSEAEAQALLSGDTQTDATSFYDR with length = 52 is too long, Max length is 41\n",
      "peptide EELHLVMTAPPPPPPPVYEPVSYHVQESLQDEGAEPTGYSAELSSEGIR with length = 49 is too long, Max length is 41\n",
      "peptide QAGEDGDDEDWEEDDAEETALEGYSTIIDDEDNPVDEYQIFK with length = 42 is too long, Max length is 41\n",
      "peptide EAALPILEPVLGQEQPAAPDQPCVLFADAPEPGQALPVEEEAVTLAR with length = 47 is too long, Max length is 41\n",
      "peptide TVMSAPPPPPPPPVIPPTENEHDEHDENNAEASAELSNEGVMNHR with length = 45 is too long, Max length is 41\n",
      "peptide TVMSAPPPPPPPPVIPPTENEHDEHDENNAEASAELSNEGVMNHR with length = 45 is too long, Max length is 41\n",
      "peptide DSMVMHNSDPNLHLLAEGAPIDWGEEYSNSGGGGSPSPSTPESATLSEK with length = 49 is too long, Max length is 41\n",
      "peptide DSMVMHNSDPNLHLLAEGAPIDWGEEYSNSGGGGSPSPSTPESATLSEK with length = 49 is too long, Max length is 41\n",
      "peptide DSMVMHNSDPNLHLLAEGAPIDWGEEYSNSGGGGSPSPSTPESATLSEK with length = 49 is too long, Max length is 41\n",
      "peptide SSEAETQQPPAAPPAAPALSAADTKPGTTGSGAGSGGPGGLTSAAPAGGDK with length = 51 is too long, Max length is 41\n",
      "peptide SSEAETQQPPAAPPAAPALSAADTKPGTTGSGAGSGGPGGLTSAAPAGGDKK with length = 52 is too long, Max length is 41\n",
      "peptide ILCEELGAPANSAVNCVPLEDFGGHHPDPNLTYAADLVETMK with length = 42 is too long, Max length is 41\n",
      "peptide ILCEELGAPANSAVNCVPLEDFGGHHPDPNLTYAADLVETMK with length = 42 is too long, Max length is 41\n",
      "peptide EEVTMDTSENRPENDVPEPPMPIADQVSNDDRPEGSVEDEEK with length = 42 is too long, Max length is 41\n",
      "peptide QFDELCIPFVVIPATVSNNVPGSDFSVGADTALNTICTTCDR with length = 42 is too long, Max length is 41\n",
      "peptide GVHEDHQLDTEAGAPHCGTNPQLAQDPSQNQQTSNPTHSSEDVKPK with length = 46 is too long, Max length is 41\n",
      "peptide YSTGSDSASFPHTTPSMCLNPDLEGPPLEAYTIQGQYAIPQPDLTK with length = 46 is too long, Max length is 41\n",
      "peptide YSTGSDSASFPHTTPSMCLNPDLEGPPLEAYTIQGQYAIPQPDLTK with length = 46 is too long, Max length is 41\n",
      "peptide LPEDDEPPARPPPPPPASVSPQAEPVWTPPAPAPAAPPSTPAAPK with length = 45 is too long, Max length is 41\n",
      "peptide DFPAGEPEPEWDNENDIVTGLTCIAVVGIEDPVRPEVPDAIK with length = 42 is too long, Max length is 41\n",
      "peptide ETENNVEKPDNDEDESEVPSLPLGLTGAFEDTSFASLCNLVNENTLK with length = 47 is too long, Max length is 41\n",
      "peptide SPVGSGAPQAAAPAPAAHVAGNPGGDAAPAATGTAAAASLATAAGSEDAEK with length = 51 is too long, Max length is 41\n",
      "peptide GGGGGGGGGGGLGGGLGNVLGGLISGAGGGGGGGGGGGGGGGGGGGGTAMR with length = 51 is too long, Max length is 41\n",
      "peptide SSGPPPPSGSSGSEAAAGAGAAAPASQHPATGTGAVQTEAMK with length = 42 is too long, Max length is 41\n",
      "peptide SSGPPPPSGSSGSEAAAGAGAAAPASQHPATGTGAVQTEAMK with length = 42 is too long, Max length is 41\n",
      "peptide LAQPNQVPVQPEATQVPLVSSTSEGYTASQPLYQPSHATEQRPQK with length = 45 is too long, Max length is 41\n",
      "peptide LAQPNQVPVQPEATQVPLVSSTSEGYTASQPLYQPSHATEQRPQK with length = 45 is too long, Max length is 41\n",
      "peptide ESISNSELFPTTDPVGTLLQVPEQISAHLPQPAGQIATQPTQVSLPPTAEPAK with length = 53 is too long, Max length is 41\n",
      "peptide NEPDVYETSDLPEDDQAEFDAEELTSTSVEHIIVNPNAAYDK with length = 42 is too long, Max length is 41\n",
      "peptide ESQAVVDPPQAASTGAPQSSAVAAAAATTTATTTTTSSGGHPLEFLR with length = 47 is too long, Max length is 41\n",
      "peptide IIATAVCHTDAYTLSGADPEGCFPVILGHEGAGIVESVGEGVTK with length = 44 is too long, Max length is 41\n",
      "peptide NNQQVPENTEELGQTKPTSNPQVVNEGGAKPELASQATEGSK with length = 42 is too long, Max length is 41\n",
      "peptide PLAPAGIPSNTAAAVTAPPGPGAAAGAAASSAMTYAQLESLINK with length = 44 is too long, Max length is 41\n",
      "peptide PLAPAGIPSNTAAAVTAPPGPGAAAGAAASSAMTYAQLESLINK with length = 44 is too long, Max length is 41\n",
      "peptide AVEYLLTGIPGSPEPEHGSVQESQVSEQPATEAAGENPLEFLR with length = 43 is too long, Max length is 41\n",
      "peptide FLAAAQNPADEPTSGAPAPQELGAANQQGDLCEVSLAGSVEPAQGEAR with length = 48 is too long, Max length is 41\n",
      "peptide AASAAGAAGSAGGSSGAAGAAGGGAGAGTRPGDGGTASAGAAGPGAATK with length = 49 is too long, Max length is 41\n",
      "peptide AASAAGAAGSAGGSSGAAGAAGGGAGAGTRPGDGGTASAGAAGPGAATK with length = 49 is too long, Max length is 41\n",
      "peptide GEGDIHENVDTDLPGSLGQSEEKPVPAAPVPSPVAPAPVPSR with length = 42 is too long, Max length is 41\n",
      "peptide GPTSPSVTAIELIPSVTNPENLPSLPDIPPIQLEDAGSSSLDNLLSR with length = 47 is too long, Max length is 41\n",
      "peptide TEGNIDDSLIGGNASAEGPEGEGTESTVITGVDIVMNHHLQETSFTK with length = 47 is too long, Max length is 41\n",
      "peptide TEGNIDDSLIGGNASAEGPEGEGTESTVITGVDIVMNHHLQETSFTK with length = 47 is too long, Max length is 41\n",
      "peptide TEGNIDDSLIGGNASAEGPEGEGTESTVITGVDIVMNHHLQETSFTK with length = 47 is too long, Max length is 41\n",
      "peptide ALANVNIGSLICNVGAGGPAPAAGAAPAGGPAPSTAAAPAEEK with length = 43 is too long, Max length is 41\n",
      "peptide ALANVNIGSLICNVGAGGPAPAAGAAPAGGPAPSTAAAPAEEK with length = 43 is too long, Max length is 41\n",
      "peptide ALANVNIGSLICNVGAGGPAPAAGAAPAGGPAPSTAAAPAEEK with length = 43 is too long, Max length is 41\n",
      "peptide AAAAAAAAAAAATGTEAGPGTAGGSENGSEVAAQPAGLSGPAEVGPGAVGER with length = 52 is too long, Max length is 41\n",
      "peptide APPGAPGPGPGSGAPGSQEEEEEPGLVEGDPGDGAIEDPELEAIK with length = 45 is too long, Max length is 41\n",
      "peptide HLVPGAGGEAGEGAPGGAGDYGNGLESEELEPEELLLEPEPEPEPEEEPPRPR with length = 53 is too long, Max length is 41\n",
      "peptide HLVPGAGGEAGEGAPGGAGDYGNGLESEELEPEELLLEPEPEPEPEEEPPRPR with length = 53 is too long, Max length is 41\n",
      "peptide AYVLGSPALAAELEAVGVASVGVGPEPLQGEGPGDWLHAPLEPDVR with length = 46 is too long, Max length is 41\n",
      "peptide DLTVCEPPKPQCSLPQDPAIVQSSLGSSTSSFQSMGSYGPFGR with length = 43 is too long, Max length is 41\n",
      "peptide LIDDYGGEDDELAGGPGGGAGGPGGGLYGELPEGTSITVDSK with length = 42 is too long, Max length is 41\n",
      "peptide AAAGAPDGMEEPGMDTEAETVATEAPARPVNCLEAEAAAGAAAEDSGAAR with length = 50 is too long, Max length is 41\n",
      "peptide APQTPLMPSFSAPSGTGLLPTPITQQASLTSLAQGTGTTSAITFPEEQEDPR with length = 52 is too long, Max length is 41\n",
      "peptide AQEEGPGEPPPPELALLPPPPPPPPTPATPTSSASNLDLGEQR with length = 43 is too long, Max length is 41\n",
      "peptide NPDGGPLESSSDLAALSPLTSSGHQEQDTELGSTHTAGATSSLTPSR with length = 47 is too long, Max length is 41\n",
      "peptide QDPAAAQEGEDEGASAGQGPKPEAHSQEQGHPQTGCECEDGPDGQEMDPPNPEEVK with length = 56 is too long, Max length is 41\n",
      "peptide QDPAAAQEGEDEGASAGQGPKPEAHSQEQGHPQTGCECEDGPDGQEMDPPNPEEVK with length = 56 is too long, Max length is 41\n",
      "peptide SSGPPPPSGSSGSEAAAGAGAAAPASQHPATGTGAVQTEAMK with length = 42 is too long, Max length is 41\n",
      "peptide SSGPPPPSGSSGSEAAAGAGAAAPASQHPATGTGAVQTEAMK with length = 42 is too long, Max length is 41\n",
      "peptide AASAAGAAGSAGGSSGAAGAAGGGAGAGTRPGDGGTASAGAAGPGAATK with length = 49 is too long, Max length is 41\n",
      "peptide AASAAGAAGSAGGSSGAAGAAGGGAGAGTRPGDGGTASAGAAGPGAATK with length = 49 is too long, Max length is 41\n",
      "peptide SEEVPAFGVASPPPLTDTPDTTANAEGDLPTTMGGPLPPHLALK with length = 44 is too long, Max length is 41\n",
      "peptide ALANVNIGSLICNVGAGGPAPAAGAAPAGGPAPSTAAAPAEEK with length = 43 is too long, Max length is 41\n",
      "peptide ALANVNIGSLICNVGAGGPAPAAGAAPAGGPAPSTAAAPAEEK with length = 43 is too long, Max length is 41\n",
      "peptide ALANVNIGSLICNVGAGGPAPAAGAAPAGGPAPSTAAAPAEEK with length = 43 is too long, Max length is 41\n",
      "peptide LLPCLHSACSACLGPAAPAAANSSGDGGAAGDGTVVDCPVCK with length = 42 is too long, Max length is 41\n",
      "peptide LLPCLHSACSACLGPAAPAAANSSGDGGAAGDGTVVDCPVCK with length = 42 is too long, Max length is 41\n",
      "peptide AAAFVTSPPLSPDPTTPDFLNSLLSCGDLQVTGSAHCTFNTAQK with length = 44 is too long, Max length is 41\n",
      "peptide ILCEELGAPANSAVNCVPLEDFGGHHPDPNLTYAADLVETMK with length = 42 is too long, Max length is 41\n",
      "peptide AATDAQDANQCCTSCEDNAPATSYCVECSEPLCETCVEAHQR with length = 42 is too long, Max length is 41\n",
      "peptide GEGDIHENVDTDLPGSLGQSEEKPVPAAPVPSPVAPAPVPSR with length = 42 is too long, Max length is 41\n",
      "peptide GGYGGGGPGYGNQGGGYGGGYDNYGGGNYGSGNYNDFGNYNQQPSNYGPMK with length = 51 is too long, Max length is 41\n",
      "peptide SSEAETQQPPAAPPAAPALSAADTKPGTTGSGAGSGGPGGLTSAAPAGGDKK with length = 52 is too long, Max length is 41\n",
      "peptide LAQPNQVPVQPEATQVPLVSSTSEGYTASQPLYQPSHATEQRPQK with length = 45 is too long, Max length is 41\n",
      "peptide VMATTGGMGMGPGGPGMITIPPSILNNPNIPNEIIHALQAGR with length = 42 is too long, Max length is 41\n",
      "peptide DYTRPDLPSGDSQPSLDQTMAAAFGLSVPNVHGALAPLAIPSAAAAAAAAGR with length = 52 is too long, Max length is 41\n",
      "peptide DYTRPDLPSGDSQPSLDQTMAAAFGLSVPNVHGALAPLAIPSAAAAAAAAGR with length = 52 is too long, Max length is 41\n",
      "peptide TEGNIDDSLIGGNASAEGPEGEGTESTVITGVDIVMNHHLQETSFTK with length = 47 is too long, Max length is 41\n",
      "peptide EIDVDAVASDGVVAAIAISEHVENAGVHSGDATLVTPPQDITAK with length = 44 is too long, Max length is 41\n",
      "peptide NNQQVPENTEELGQTKPTSNPQVVNEGGAKPELASQATEGSK with length = 42 is too long, Max length is 41\n",
      "peptide AEPGQQQPAAEPPPAEGLLRPAGPGAPEAAGTEASSEEVGIAEAGPESEVR with length = 51 is too long, Max length is 41\n",
      "peptide APPGAPGPGPGSGAPGSQEEEEEPGLVEGDPGDGAIEDPELEAIK with length = 45 is too long, Max length is 41\n",
      "peptide ESQAVVDPPQAASTGAPQSSAVAAAAATTTATTTTTSSGGHPLEFLR with length = 47 is too long, Max length is 41\n",
      "peptide GHMPPLTSAQQALTGTINSSMQAVQAAQATLDDFDTLPPLGQDAASK with length = 47 is too long, Max length is 41\n",
      "peptide GGGGGGGGGGGLGGGLGNVLGGLISGAGGGGGGGGGGGGGGGGGGGGTAMR with length = 51 is too long, Max length is 41\n",
      "peptide SSEAETQQPPAAPPAAPALSAADTKPGTTGSGAGSGGPGGLTSAAPAGGDK with length = 51 is too long, Max length is 41\n",
      "peptide SPVGSGAPQAAAPAPAAHVAGNPGGDAAPAATGTAAAASLATAAGSEDAEK with length = 51 is too long, Max length is 41\n",
      "peptide AQEEGPGEPPPPELALLPPPPPPPPTPATPTSSASNLDLGEQR with length = 43 is too long, Max length is 41\n",
      "peptide LGSAGGLGSTLGGSSYSSCYSFGSGGGYGSSFGGVDGLLAGGEK with length = 44 is too long, Max length is 41\n",
      "peptide LGSAGGLGSTLGGSSYSSCYSFGSGGGYGSSFGGVDGLLAGGEK with length = 44 is too long, Max length is 41\n",
      "peptide EELTPGAPQHQLPPVPGSPEPYPGQQAPGPEPSQPLLELTPR with length = 42 is too long, Max length is 41\n",
      "peptide SVGGLVAQQQCVGPLQTPLADVAVVALSHEELIGAATALGEQPVK with length = 45 is too long, Max length is 41\n",
      "peptide GGYGGGGPGYGNQGGGYGGGYDNYGGGNYGSGNYNDFGNYNQQPSNYGPMK with length = 51 is too long, Max length is 41\n",
      "peptide AFVNPFPDYEAAAGALLASGAAEETGCVRPPATTDEPGLPFHQDGK with length = 46 is too long, Max length is 41\n",
      "peptide DSMVMHNSDPNLHLLAEGAPIDWGEEYSNSGGGGSPSPSTPESATLSEK with length = 49 is too long, Max length is 41\n",
      "peptide NVPQEESLEDSDVDADFKAQNVTLEAILQNATSDNPVVQLSAVQAAR with length = 47 is too long, Max length is 41\n",
      "peptide LAGDGVGAVNISVMNSTGGSSSGGGIGLTLGGTMGSNALSFSSSAGPGLLK with length = 51 is too long, Max length is 41\n",
      "peptides bigger than 41 = 126\n"
     ]
    }
   ],
   "source": [
    "X,y = normalize_data( data['seq'].values, charge)\n",
    "\n",
    "X_train, X_test, y_train, y_test = train_test_split(X, y, test_size=0.33, random_state=42)"
   ]
  },
  {
   "cell_type": "code",
   "execution_count": 27,
   "metadata": {},
   "outputs": [
    {
     "name": "stdout",
     "output_type": "stream",
     "text": [
      "1250/1250 [==============================] - 189s 151ms/step\n"
     ]
    }
   ],
   "source": [
    "import keras\n",
    "from keras.models import load_model\n",
    "\n",
    "\n",
    "model = load_model(__path_model__)\n",
    "\n",
    "\n",
    "predict_charge = model.predict(X_test)"
   ]
  },
  {
   "cell_type": "code",
   "execution_count": 28,
   "metadata": {},
   "outputs": [
    {
     "name": "stdout",
     "output_type": "stream",
     "text": [
      "[1.9705666e-03 6.0132283e-01 3.7345380e-01 2.3251373e-02 1.3963582e-06]\n",
      "RMSE: 0.4230419391042932\n"
     ]
    },
    {
     "data": {
      "image/png": "[encoded data removed]",
      "text/plain": [
       "<Figure size 640x480 with 1 Axes>"
      ]
     },
     "metadata": {},
     "output_type": "display_data"
    }
   ],
   "source": [
    "f = lambda x : np.argmax(x)+1\n",
    "print(predict_charge[0])\n",
    "predict_y = np.array(list(map(f,predict_charge)))\n",
    "\n",
    "charge_y = np.array(list(map(f,y_test)))\n",
    "\n",
    "y_pred = [[],[],[],[]]\n",
    "for pred,real in zip(predict_y,charge_y):\n",
    "    y_pred[real-2].append(pred)\n",
    "\n",
    "# print(y_pred)\n",
    "print(f'RMSE: {mean_squared_error(charge_y, predict_y, squared=False)}')\n",
    "plt.violinplot(y_pred)\n",
    "plt.xticks([1,2,3,4],['2+','3+','4+','5+'])\n",
    "plt.xlabel('Real charge')\n",
    "plt.ylabel('Prediced charge')\n",
    "plt.title('Model of Prediction of LC-MS/MS Properties of Peptides from Sequence by Deep Learning')\n",
    "plt.show()"
   ]
  }
 ],
 "metadata": {
  "kernelspec": {
   "display_name": "Python 3",
   "language": "python",
   "name": "python3"
  },
  "language_info": {
   "codemirror_mode": {
    "name": "ipython",
    "version": 3
   },
   "file_extension": ".py",
   "mimetype": "text/x-python",
   "name": "python",
   "nbconvert_exporter": "python",
   "pygments_lexer": "ipython3",
   "version": "3.11.3"
  },
  "orig_nbformat": 4
 },
 "nbformat": 4,
 "nbformat_minor": 2
}
